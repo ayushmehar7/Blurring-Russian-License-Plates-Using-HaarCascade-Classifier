{
 "cells": [
  {
   "cell_type": "code",
   "execution_count": null,
   "metadata": {},
   "outputs": [],
   "source": [
    "import cv2\n",
    "import numpy as np\n",
    "import matplotlib.pyplot as plt\n",
    "%matplotlib inline"
   ]
  },
  {
   "cell_type": "code",
   "execution_count": null,
   "metadata": {},
   "outputs": [],
   "source": [
    "img = cv2.imread('PATH')"
   ]
  },
  {
   "cell_type": "code",
   "execution_count": null,
   "metadata": {},
   "outputs": [],
   "source": [
    "plate_cascade = cv2.CascadeClassifier('haarcascade_russian_plate_number.xml')"
   ]
  },
  {
   "cell_type": "code",
   "execution_count": null,
   "metadata": {},
   "outputs": [],
   "source": [
    "def detect_and_blur_plate(img):\n",
    "    \n",
    "    if type(img)==None:\n",
    "        return \"Invalid path\"\n",
    "    else:\n",
    "    \n",
    "        plate_img = img.copy()\n",
    "    \n",
    "        roi = img.copy()\n",
    "  \n",
    "        plate_rects = plate_cascade.detectMultiScale(plate_img,scaleFactor=1.3, minNeighbors=3) \n",
    "    \n",
    "        if len(plate_rects)==0:\n",
    "            return \"No plates found\"\n",
    "    \n",
    "        else:\n",
    "            for (x,y,w,h) in plate_rects: \n",
    "        \n",
    "                roi = roi[y:y+h,x:x+w]\n",
    "                blurred_roi = cv2.medianBlur(roi,7)\n",
    "        \n",
    "                plate_img[y:y+h,x:x+w] = blurred_roi\n",
    "        \n",
    "            return plate_img\n",
    "    "
   ]
  },
  {
   "cell_type": "code",
   "execution_count": null,
   "metadata": {},
   "outputs": [],
   "source": [
    "result = detect_and_blur_plate(img)\n",
    "if type(result)==str:\n",
    "    print(result)\n",
    "else:\n",
    "    plt.imshow(result)"
   ]
  },
  {
   "cell_type": "code",
   "execution_count": null,
   "metadata": {},
   "outputs": [],
   "source": []
  }
 ],
 "metadata": {
  "kernelspec": {
   "display_name": "Python 3",
   "language": "python",
   "name": "python3"
  },
  "language_info": {
   "codemirror_mode": {
    "name": "ipython",
    "version": 3
   },
   "file_extension": ".py",
   "mimetype": "text/x-python",
   "name": "python",
   "nbconvert_exporter": "python",
   "pygments_lexer": "ipython3",
   "version": "3.6.9"
  }
 },
 "nbformat": 4,
 "nbformat_minor": 2
}
